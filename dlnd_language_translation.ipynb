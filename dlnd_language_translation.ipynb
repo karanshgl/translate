{
 "cells": [
  {
   "cell_type": "markdown",
   "metadata": {
    "collapsed": true,
    "deletable": true,
    "editable": true
   },
   "source": [
    "# Language Translation\n",
    "In this project, you’re going to take a peek into the realm of neural network machine translation.  You’ll be training a sequence to sequence model on a dataset of English and French sentences that can translate new sentences from English to French.\n",
    "## Get the Data\n",
    "Since translating the whole language of English to French will take lots of time to train, we have provided you with a small portion of the English corpus."
   ]
  },
  {
   "cell_type": "code",
   "execution_count": 1,
   "metadata": {
    "collapsed": false,
    "deletable": true,
    "editable": true
   },
   "outputs": [],
   "source": [
    "\"\"\"\n",
    "DON'T MODIFY ANYTHING IN THIS CELL\n",
    "\"\"\"\n",
    "import helper\n",
    "import problem_unittests as tests\n",
    "\n",
    "source_path = 'data/small_vocab_en'\n",
    "target_path = 'data/small_vocab_fr'\n",
    "source_text = helper.load_data(source_path)\n",
    "target_text = helper.load_data(target_path)"
   ]
  },
  {
   "cell_type": "markdown",
   "metadata": {
    "deletable": true,
    "editable": true
   },
   "source": [
    "## Explore the Data\n",
    "Play around with view_sentence_range to view different parts of the data."
   ]
  },
  {
   "cell_type": "code",
   "execution_count": 2,
   "metadata": {
    "collapsed": false,
    "deletable": true,
    "editable": true
   },
   "outputs": [
    {
     "name": "stdout",
     "output_type": "stream",
     "text": [
      "Dataset Stats\n",
      "Roughly the number of unique words: 227\n",
      "Number of sentences: 137861\n",
      "Average number of words in a sentence: 13.225277634719028\n",
      "\n",
      "English sentences 0 to 10:\n",
      "new jersey is sometimes quiet during autumn , and it is snowy in april .\n",
      "the united states is usually chilly during july , and it is usually freezing in november .\n",
      "california is usually quiet during march , and it is usually hot in june .\n",
      "the united states is sometimes mild during june , and it is cold in september .\n",
      "your least liked fruit is the grape , but my least liked is the apple .\n",
      "his favorite fruit is the orange , but my favorite is the grape .\n",
      "paris is relaxing during december , but it is usually chilly in july .\n",
      "new jersey is busy during spring , and it is never hot in march .\n",
      "our least liked fruit is the lemon , but my least liked is the grape .\n",
      "the united states is sometimes busy during january , and it is sometimes warm in november .\n",
      "\n",
      "French sentences 0 to 10:\n",
      "new jersey est parfois calme pendant l' automne , et il est neigeux en avril .\n",
      "les états-unis est généralement froid en juillet , et il gèle habituellement en novembre .\n",
      "california est généralement calme en mars , et il est généralement chaud en juin .\n",
      "les états-unis est parfois légère en juin , et il fait froid en septembre .\n",
      "votre moins aimé fruit est le raisin , mais mon moins aimé est la pomme .\n",
      "son fruit préféré est l'orange , mais mon préféré est le raisin .\n",
      "paris est relaxant en décembre , mais il est généralement froid en juillet .\n",
      "new jersey est occupé au printemps , et il est jamais chaude en mars .\n",
      "notre fruit est moins aimé le citron , mais mon moins aimé est le raisin .\n",
      "les états-unis est parfois occupé en janvier , et il est parfois chaud en novembre .\n"
     ]
    }
   ],
   "source": [
    "view_sentence_range = (0, 10)\n",
    "\n",
    "\"\"\"\n",
    "DON'T MODIFY ANYTHING IN THIS CELL\n",
    "\"\"\"\n",
    "import numpy as np\n",
    "\n",
    "print('Dataset Stats')\n",
    "print('Roughly the number of unique words: {}'.format(len({word: None for word in source_text.split()})))\n",
    "\n",
    "sentences = source_text.split('\\n')\n",
    "word_counts = [len(sentence.split()) for sentence in sentences]\n",
    "print('Number of sentences: {}'.format(len(sentences)))\n",
    "print('Average number of words in a sentence: {}'.format(np.average(word_counts)))\n",
    "\n",
    "print()\n",
    "print('English sentences {} to {}:'.format(*view_sentence_range))\n",
    "print('\\n'.join(source_text.split('\\n')[view_sentence_range[0]:view_sentence_range[1]]))\n",
    "print()\n",
    "print('French sentences {} to {}:'.format(*view_sentence_range))\n",
    "print('\\n'.join(target_text.split('\\n')[view_sentence_range[0]:view_sentence_range[1]]))"
   ]
  },
  {
   "cell_type": "markdown",
   "metadata": {
    "deletable": true,
    "editable": true
   },
   "source": [
    "## Implement Preprocessing Function\n",
    "### Text to Word Ids\n",
    "As you did with other RNNs, you must turn the text into a number so the computer can understand it. In the function `text_to_ids()`, you'll turn `source_text` and `target_text` from words to ids.  However, you need to add the `<EOS>` word id at the end of `target_text`.  This will help the neural network predict when the sentence should end.\n",
    "\n",
    "You can get the `<EOS>` word id by doing:\n",
    "```python\n",
    "target_vocab_to_int['<EOS>']\n",
    "```\n",
    "You can get other word ids using `source_vocab_to_int` and `target_vocab_to_int`."
   ]
  },
  {
   "cell_type": "code",
   "execution_count": 3,
   "metadata": {
    "collapsed": false,
    "deletable": true,
    "editable": true
   },
   "outputs": [
    {
     "name": "stdout",
     "output_type": "stream",
     "text": [
      "Tests Passed\n"
     ]
    }
   ],
   "source": [
    "def text_to_ids(source_text, target_text, source_vocab_to_int, target_vocab_to_int):\n",
    "    \"\"\"\n",
    "    Convert source and target text to proper word ids\n",
    "    :param source_text: String that contains all the source text.\n",
    "    :param target_text: String that contains all the target text.\n",
    "    :param source_vocab_to_int: Dictionary to go from the source words to an id\n",
    "    :param target_vocab_to_int: Dictionary to go from the target words to an id\n",
    "    :return: A tuple of lists (source_id_text, target_id_text)\n",
    "    \"\"\"\n",
    "    # TODO: Implement Function\n",
    "    \n",
    "    source_id_text = [[source_vocab_to_int[word] for word in line.split()] for line in source_text.split('\\n')]\n",
    "    target_id_text = [[target_vocab_to_int[word] for word in line.split()] + [target_vocab_to_int['<EOS>']]for line in target_text.split('\\n')] \n",
    "    return source_id_text, target_id_text \n",
    "\n",
    "\n",
    "\"\"\"\n",
    "DON'T MODIFY ANYTHING IN THIS CELL THAT IS BELOW THIS LINE\n",
    "\"\"\"\n",
    "tests.test_text_to_ids(text_to_ids)"
   ]
  },
  {
   "cell_type": "markdown",
   "metadata": {
    "deletable": true,
    "editable": true
   },
   "source": [
    "### Preprocess all the data and save it\n",
    "Running the code cell below will preprocess all the data and save it to file."
   ]
  },
  {
   "cell_type": "code",
   "execution_count": 4,
   "metadata": {
    "collapsed": true,
    "deletable": true,
    "editable": true
   },
   "outputs": [],
   "source": [
    "\"\"\"\n",
    "DON'T MODIFY ANYTHING IN THIS CELL\n",
    "\"\"\"\n",
    "helper.preprocess_and_save_data(source_path, target_path, text_to_ids)"
   ]
  },
  {
   "cell_type": "markdown",
   "metadata": {
    "deletable": true,
    "editable": true
   },
   "source": [
    "# Check Point\n",
    "This is your first checkpoint. If you ever decide to come back to this notebook or have to restart the notebook, you can start from here. The preprocessed data has been saved to disk."
   ]
  },
  {
   "cell_type": "code",
   "execution_count": 5,
   "metadata": {
    "collapsed": true,
    "deletable": true,
    "editable": true
   },
   "outputs": [],
   "source": [
    "\"\"\"\n",
    "DON'T MODIFY ANYTHING IN THIS CELL\n",
    "\"\"\"\n",
    "import numpy as np\n",
    "import helper\n",
    "import problem_unittests as tests\n",
    "\n",
    "(source_int_text, target_int_text), (source_vocab_to_int, target_vocab_to_int), _ = helper.load_preprocess()"
   ]
  },
  {
   "cell_type": "markdown",
   "metadata": {
    "deletable": true,
    "editable": true
   },
   "source": [
    "### Check the Version of TensorFlow and Access to GPU\n",
    "This will check to make sure you have the correct version of TensorFlow and access to a GPU"
   ]
  },
  {
   "cell_type": "code",
   "execution_count": 6,
   "metadata": {
    "collapsed": false,
    "deletable": true,
    "editable": true
   },
   "outputs": [
    {
     "name": "stdout",
     "output_type": "stream",
     "text": [
      "TensorFlow Version: 1.4.0\n"
     ]
    },
    {
     "name": "stderr",
     "output_type": "stream",
     "text": [
      "/home/carnd/anaconda3/envs/dl/lib/python3.5/site-packages/ipykernel/__main__.py:16: UserWarning: No GPU found. Please use a GPU to train your neural network.\n"
     ]
    }
   ],
   "source": [
    "\"\"\"\n",
    "DON'T MODIFY ANYTHING IN THIS CELL\n",
    "\"\"\"\n",
    "from distutils.version import LooseVersion\n",
    "import warnings\n",
    "import tensorflow as tf\n",
    "from tensorflow.python.layers.core import Dense\n",
    "\n",
    "# Check TensorFlow Version\n",
    "# Tensorflow 1.4 was giving problems\n",
    "assert LooseVersion(tf.__version__) >= LooseVersion('1.1'), 'Please use TensorFlow version 1.1 or newer'\n",
    "print('TensorFlow Version: {}'.format(tf.__version__))\n",
    "\n",
    "# Check for a GPU\n",
    "if not tf.test.gpu_device_name():\n",
    "    warnings.warn('No GPU found. Please use a GPU to train your neural network.')\n",
    "else:\n",
    "    print('Default GPU Device: {}'.format(tf.test.gpu_device_name()))"
   ]
  },
  {
   "cell_type": "markdown",
   "metadata": {
    "deletable": true,
    "editable": true
   },
   "source": [
    "## Build the Neural Network\n",
    "You'll build the components necessary to build a Sequence-to-Sequence model by implementing the following functions below:\n",
    "- `model_inputs`\n",
    "- `process_decoder_input`\n",
    "- `encoding_layer`\n",
    "- `decoding_layer_train`\n",
    "- `decoding_layer_infer`\n",
    "- `decoding_layer`\n",
    "- `seq2seq_model`\n",
    "\n",
    "### Input\n",
    "Implement the `model_inputs()` function to create TF Placeholders for the Neural Network. It should create the following placeholders:\n",
    "\n",
    "- Input text placeholder named \"input\" using the TF Placeholder name parameter with rank 2.\n",
    "- Targets placeholder with rank 2.\n",
    "- Learning rate placeholder with rank 0.\n",
    "- Keep probability placeholder named \"keep_prob\" using the TF Placeholder name parameter with rank 0.\n",
    "- Target sequence length placeholder named \"target_sequence_length\" with rank 1\n",
    "- Max target sequence length tensor named \"max_target_len\" getting its value from applying tf.reduce_max on the target_sequence_length placeholder. Rank 0.\n",
    "- Source sequence length placeholder named \"source_sequence_length\" with rank 1\n",
    "\n",
    "Return the placeholders in the following the tuple (input, targets, learning rate, keep probability, target sequence length, max target sequence length, source sequence length)"
   ]
  },
  {
   "cell_type": "code",
   "execution_count": 7,
   "metadata": {
    "collapsed": false,
    "deletable": true,
    "editable": true
   },
   "outputs": [
    {
     "name": "stdout",
     "output_type": "stream",
     "text": [
      "Tests Passed\n"
     ]
    }
   ],
   "source": [
    "def model_inputs():\n",
    "    \"\"\"\n",
    "    Create TF Placeholders for input, targets, learning rate, and lengths of source and target sequences.\n",
    "    :return: Tuple (input, targets, learning rate, keep probability, target sequence length,\n",
    "    max target sequence length, source sequence length)\n",
    "    \"\"\"\n",
    "    # TODO: Implement Function\n",
    "    inputs = tf.placeholder(tf.int32, [None,None], name='input')\n",
    "    targets = tf.placeholder(tf.int32, [None, None], name = 'targets')\n",
    "    keep_prob = tf.placeholder(tf.float32, name='keep_prob')\n",
    "    target_sequence_length = tf.placeholder(tf.int32, [None], name='target_sequence_length')\n",
    "    max_target_len = tf.reduce_max(target_sequence_length, name='max_target_len')\n",
    "    source_sequence_length = tf.placeholder(tf.int32,[None], name='source_sequence_length')\n",
    "    learning_rate = tf.placeholder(tf.float32, name=\"learn_rate\")\n",
    "    return inputs, targets, learning_rate, keep_prob, target_sequence_length,max_target_len, source_sequence_length\n",
    "\n",
    "\n",
    "\n",
    "\"\"\"\n",
    "DON'T MODIFY ANYTHING IN THIS CELL THAT IS BELOW THIS LINE\n",
    "\"\"\"\n",
    "tests.test_model_inputs(model_inputs)"
   ]
  },
  {
   "cell_type": "markdown",
   "metadata": {
    "deletable": true,
    "editable": true
   },
   "source": [
    "### Process Decoder Input\n",
    "Implement `process_decoder_input` by removing the last word id from each batch in `target_data` and concat the GO ID to the begining of each batch."
   ]
  },
  {
   "cell_type": "code",
   "execution_count": 8,
   "metadata": {
    "collapsed": false,
    "deletable": true,
    "editable": true
   },
   "outputs": [
    {
     "name": "stdout",
     "output_type": "stream",
     "text": [
      "Tests Passed\n"
     ]
    }
   ],
   "source": [
    "def process_decoder_input(target_data, target_vocab_to_int, batch_size):\n",
    "    \"\"\"\n",
    "    Preprocess target data for encoding\n",
    "    :param target_data: Target Placehoder\n",
    "    :param target_vocab_to_int: Dictionary to go from the target words to an id\n",
    "    :param batch_size: Batch Size\n",
    "    :return: Preprocessed target data\n",
    "    \"\"\"\n",
    "    # TODO: Implement Function\n",
    "    go_tag = tf.constant(target_vocab_to_int['<GO>'], dtype=tf.int32, shape=(batch_size, 1), name='go_tag')\n",
    "    target_data = tf.concat([go_tag[:,0:1], target_data[:, :-1]], axis=1, name='decoding_input')\n",
    "    return target_data\n",
    "\n",
    "\"\"\"\n",
    "DON'T MODIFY ANYTHING IN THIS CELL THAT IS BELOW THIS LINE\n",
    "\"\"\"\n",
    "tests.test_process_encoding_input(process_decoder_input)"
   ]
  },
  {
   "cell_type": "markdown",
   "metadata": {
    "deletable": true,
    "editable": true
   },
   "source": [
    "### Encoding\n",
    "Implement `encoding_layer()` to create a Encoder RNN layer:\n",
    " * Embed the encoder input using [`tf.contrib.layers.embed_sequence`](https://www.tensorflow.org/api_docs/python/tf/contrib/layers/embed_sequence)\n",
    " * Construct a [stacked](https://github.com/tensorflow/tensorflow/blob/6947f65a374ebf29e74bb71e36fd82760056d82c/tensorflow/docs_src/tutorials/recurrent.md#stacking-multiple-lstms) [`tf.contrib.rnn.LSTMCell`](https://www.tensorflow.org/api_docs/python/tf/contrib/rnn/LSTMCell) wrapped in a [`tf.contrib.rnn.DropoutWrapper`](https://www.tensorflow.org/api_docs/python/tf/contrib/rnn/DropoutWrapper)\n",
    " * Pass cell and embedded input to [`tf.nn.dynamic_rnn()`](https://www.tensorflow.org/api_docs/python/tf/nn/dynamic_rnn)"
   ]
  },
  {
   "cell_type": "code",
   "execution_count": 9,
   "metadata": {
    "collapsed": false,
    "deletable": true,
    "editable": true,
    "scrolled": false
   },
   "outputs": [
    {
     "name": "stdout",
     "output_type": "stream",
     "text": [
      "Tests Passed\n"
     ]
    }
   ],
   "source": [
    "from imp import reload\n",
    "reload(tests)\n",
    "\n",
    "def encoding_layer(rnn_inputs, rnn_size, num_layers, keep_prob, \n",
    "                   source_sequence_length, source_vocab_size, \n",
    "                   encoding_embedding_size):\n",
    "    \"\"\"\n",
    "    Create encoding layer\n",
    "    :param rnn_inputs: Inputs for the RNN\n",
    "    :param rnn_size: RNN Size\n",
    "    :param num_layers: Number of layers\n",
    "    :param keep_prob: Dropout keep probability\n",
    "    :param source_sequence_length: a list of the lengths of each sequence in the batch\n",
    "    :param source_vocab_size: vocabulary size of source data\n",
    "    :param encoding_embedding_size: embedding size of source data\n",
    "    :return: tuple (RNN output, RNN state)\n",
    "    \"\"\"\n",
    "    # TODO: Implement Function\n",
    "    embed = tf.contrib.layers.embed_sequence(rnn_inputs, source_vocab_size, encoding_embedding_size)\n",
    "    def lstm_cell():\n",
    "        cell = tf.contrib.rnn.BasicLSTMCell(rnn_size) \n",
    "        return tf.contrib.rnn.DropoutWrapper(cell, keep_prob);\n",
    "    \n",
    "    stacked_lstm = tf.contrib.rnn.MultiRNNCell([lstm_cell() for _ in range(num_layers)])\n",
    "    \n",
    "    return tf.nn.dynamic_rnn( stacked_lstm, embed, sequence_length=source_sequence_length, dtype=tf.float32);\n",
    "\n",
    "\n",
    "    \n",
    "    \n",
    "\n",
    "\"\"\"\n",
    "DON'T MODIFY ANYTHING IN THIS CELL THAT IS BELOW THIS LINE\n",
    "\"\"\"\n",
    "tests.test_encoding_layer(encoding_layer)"
   ]
  },
  {
   "cell_type": "markdown",
   "metadata": {
    "deletable": true,
    "editable": true
   },
   "source": [
    "### Decoding - Training\n",
    "Create a training decoding layer:\n",
    "* Create a [`tf.contrib.seq2seq.TrainingHelper`](https://www.tensorflow.org/api_docs/python/tf/contrib/seq2seq/TrainingHelper) \n",
    "* Create a [`tf.contrib.seq2seq.BasicDecoder`](https://www.tensorflow.org/api_docs/python/tf/contrib/seq2seq/BasicDecoder)\n",
    "* Obtain the decoder outputs from [`tf.contrib.seq2seq.dynamic_decode`](https://www.tensorflow.org/api_docs/python/tf/contrib/seq2seq/dynamic_decode)"
   ]
  },
  {
   "cell_type": "code",
   "execution_count": 10,
   "metadata": {
    "collapsed": false,
    "deletable": true,
    "editable": true
   },
   "outputs": [
    {
     "name": "stdout",
     "output_type": "stream",
     "text": [
      "Tests Passed\n"
     ]
    }
   ],
   "source": [
    "\n",
    "def decoding_layer_train(encoder_state, dec_cell, dec_embed_input, \n",
    "                         target_sequence_length, max_summary_length, \n",
    "                         output_layer, keep_prob):\n",
    "    \"\"\"\n",
    "    Create a decoding layer for training\n",
    "    :param encoder_state: Encoder State\n",
    "    :param dec_cell: Decoder RNN Cell\n",
    "    :param dec_embed_input: Decoder embedded input\n",
    "    :param target_sequence_length: The lengths of each sequence in the target batch\n",
    "    :param max_summary_length: The length of the longest sequence in the batch\n",
    "    :param output_layer: Function to apply the output layer\n",
    "    :param keep_prob: Dropout keep probability\n",
    "    :return: BasicDecoderOutput containing training logits and sample_id\n",
    "    \"\"\"\n",
    "    # TODO: Implement Function\n",
    "    helper = tf.contrib.seq2seq.TrainingHelper(dec_embed_input, target_sequence_length)\n",
    "    decoder = tf.contrib.seq2seq.BasicDecoder(dec_cell, helper, encoder_state, output_layer)\n",
    "    train_logits, _, _ = tf.contrib.seq2seq.dynamic_decode(decoder, maximum_iterations=max_summary_length)\n",
    "    return train_logits\n",
    "\n",
    "\n",
    "\n",
    "\"\"\"\n",
    "DON'T MODIFY ANYTHING IN THIS CELL THAT IS BELOW THIS LINE\n",
    "\"\"\"\n",
    "tests.test_decoding_layer_train(decoding_layer_train)"
   ]
  },
  {
   "cell_type": "markdown",
   "metadata": {
    "deletable": true,
    "editable": true
   },
   "source": [
    "### Decoding - Inference\n",
    "Create inference decoder:\n",
    "* Create a [`tf.contrib.seq2seq.GreedyEmbeddingHelper`](https://www.tensorflow.org/api_docs/python/tf/contrib/seq2seq/GreedyEmbeddingHelper)\n",
    "* Create a [`tf.contrib.seq2seq.BasicDecoder`](https://www.tensorflow.org/api_docs/python/tf/contrib/seq2seq/BasicDecoder)\n",
    "* Obtain the decoder outputs from [`tf.contrib.seq2seq.dynamic_decode`](https://www.tensorflow.org/api_docs/python/tf/contrib/seq2seq/dynamic_decode)"
   ]
  },
  {
   "cell_type": "code",
   "execution_count": 11,
   "metadata": {
    "collapsed": false,
    "deletable": true,
    "editable": true,
    "scrolled": true
   },
   "outputs": [
    {
     "name": "stdout",
     "output_type": "stream",
     "text": [
      "Tests Passed\n"
     ]
    }
   ],
   "source": [
    "def decoding_layer_infer(encoder_state, dec_cell, dec_embeddings, start_of_sequence_id,\n",
    "                         end_of_sequence_id, max_target_sequence_length,\n",
    "                         vocab_size, output_layer, batch_size, keep_prob):\n",
    "    \"\"\"\n",
    "    Create a decoding layer for inference\n",
    "    :param encoder_state: Encoder state\n",
    "    :param dec_cell: Decoder RNN Cell\n",
    "    :param dec_embeddings: Decoder embeddings\n",
    "    :param start_of_sequence_id: GO ID\n",
    "    :param end_of_sequence_id: EOS Id\n",
    "    :param max_target_sequence_length: Maximum length of target sequences\n",
    "    :param vocab_size: Size of decoder/target vocabulary\n",
    "    :param decoding_scope: TenorFlow Variable Scope for decoding\n",
    "    :param output_layer: Function to apply the output layer\n",
    "    :param batch_size: Batch size\n",
    "    :param keep_prob: Dropout keep probability\n",
    "    :return: BasicDecoderOutput containing inference logits and sample_id\n",
    "    \"\"\"\n",
    "    # TODO: Implement Function\n",
    "    start_tokens = tf.constant([start_of_sequence_id]*batch_size)\n",
    "    helper = tf.contrib.seq2seq.GreedyEmbeddingHelper(dec_embeddings, start_tokens, end_of_sequence_id)\n",
    "    decoder = tf.contrib.seq2seq.BasicDecoder(dec_cell, helper, encoder_state, output_layer)\n",
    "    dec_infer_logits, _, _ = tf.contrib.seq2seq.dynamic_decode(decoder, maximum_iterations=max_target_sequence_length)\n",
    "    return dec_infer_logits\n",
    "\n",
    "\n",
    "\n",
    "\n",
    "\"\"\"\n",
    "DON'T MODIFY ANYTHING IN THIS CELL THAT IS BELOW THIS LINE\n",
    "\"\"\"\n",
    "tests.test_decoding_layer_infer(decoding_layer_infer)"
   ]
  },
  {
   "cell_type": "markdown",
   "metadata": {
    "deletable": true,
    "editable": true
   },
   "source": [
    "### Build the Decoding Layer\n",
    "Implement `decoding_layer()` to create a Decoder RNN layer.\n",
    "\n",
    "* Embed the target sequences\n",
    "* Construct the decoder LSTM cell (just like you constructed the encoder cell above)\n",
    "* Create an output layer to map the outputs of the decoder to the elements of our vocabulary\n",
    "* Use the your `decoding_layer_train(encoder_state, dec_cell, dec_embed_input, target_sequence_length, max_target_sequence_length, output_layer, keep_prob)` function to get the training logits.\n",
    "* Use your `decoding_layer_infer(encoder_state, dec_cell, dec_embeddings, start_of_sequence_id, end_of_sequence_id, max_target_sequence_length, vocab_size, output_layer, batch_size, keep_prob)` function to get the inference logits.\n",
    "\n",
    "Note: You'll need to use [tf.variable_scope](https://www.tensorflow.org/api_docs/python/tf/variable_scope) to share variables between training and inference."
   ]
  },
  {
   "cell_type": "code",
   "execution_count": 12,
   "metadata": {
    "collapsed": false,
    "deletable": true,
    "editable": true
   },
   "outputs": [
    {
     "name": "stdout",
     "output_type": "stream",
     "text": [
      "Tests Passed\n"
     ]
    }
   ],
   "source": [
    "def decoding_layer(dec_input, encoder_state,\n",
    "                   target_sequence_length, max_target_sequence_length,\n",
    "                   rnn_size,\n",
    "                   num_layers, target_vocab_to_int, target_vocab_size,\n",
    "                   batch_size, keep_prob, decoding_embedding_size):\n",
    "    \"\"\"\n",
    "    Create decoding layer\n",
    "    :param dec_input: Decoder input\n",
    "    :param encoder_state: Encoder state\n",
    "    :param target_sequence_length: The lengths of each sequence in the target batch\n",
    "    :param max_target_sequence_length: Maximum length of target sequences\n",
    "    :param rnn_size: RNN Size\n",
    "    :param num_layers: Number of layers\n",
    "    :param target_vocab_to_int: Dictionary to go from the target words to an id\n",
    "    :param target_vocab_size: Size of target vocabulary\n",
    "    :param batch_size: The size of the batch\n",
    "    :param keep_prob: Dropout keep probability\n",
    "    :param decoding_embedding_size: Decoding embedding size\n",
    "    :return: Tuple of (Training BasicDecoderOutput, Inference BasicDecoderOutput)\n",
    "    \"\"\"\n",
    "    # TODO: Implement Function\n",
    "    embeddings = tf.Variable(tf.random_normal([target_vocab_size, decoding_embedding_size]))\n",
    "    dec_embed_input = tf.nn.embedding_lookup(embeddings, dec_input)\n",
    "\n",
    "    def lstm_cell():\n",
    "        cell = tf.contrib.rnn.BasicLSTMCell(rnn_size)\n",
    "        return tf.contrib.rnn.DropoutWrapper(cell, keep_prob)\n",
    "    dec_cell = tf.contrib.rnn.MultiRNNCell([lstm_cell() for _ in range(num_layers)])\n",
    "    \n",
    "    output_layer = Dense(target_vocab_size,\n",
    "                         kernel_initializer = tf.truncated_normal_initializer(mean = 0.0, stddev=0.1))\n",
    "    \n",
    "    with tf.variable_scope('decode'):\n",
    "        train_logits = decoding_layer_train(encoder_state, dec_cell, dec_embed_input, target_sequence_length, \\\n",
    "                                            max_target_sequence_length, output_layer, keep_prob)\n",
    "    \n",
    "    with tf.variable_scope('decode', reuse=True):\n",
    "        infer_logits = decoding_layer_infer(encoder_state, dec_cell, embeddings, target_vocab_to_int['<GO>'], \\\n",
    "                                            target_vocab_to_int['<EOS>'], max_target_sequence_length, \\\n",
    "                                            target_vocab_size, output_layer, batch_size, keep_prob)\n",
    "    \n",
    "    return train_logits, infer_logits\n",
    "\n",
    "\n",
    "\n",
    "\n",
    "\"\"\"\n",
    "DON'T MODIFY ANYTHING IN THIS CELL THAT IS BELOW THIS LINE\n",
    "\"\"\"\n",
    "tests.test_decoding_layer(decoding_layer)"
   ]
  },
  {
   "cell_type": "markdown",
   "metadata": {
    "deletable": true,
    "editable": true
   },
   "source": [
    "### Build the Neural Network\n",
    "Apply the functions you implemented above to:\n",
    "\n",
    "- Encode the input using your `encoding_layer(rnn_inputs, rnn_size, num_layers, keep_prob,  source_sequence_length, source_vocab_size, encoding_embedding_size)`.\n",
    "- Process target data using your `process_decoder_input(target_data, target_vocab_to_int, batch_size)` function.\n",
    "- Decode the encoded input using your `decoding_layer(dec_input, enc_state, target_sequence_length, max_target_sentence_length, rnn_size, num_layers, target_vocab_to_int, target_vocab_size, batch_size, keep_prob, dec_embedding_size)` function."
   ]
  },
  {
   "cell_type": "code",
   "execution_count": 13,
   "metadata": {
    "collapsed": false,
    "deletable": true,
    "editable": true
   },
   "outputs": [
    {
     "name": "stdout",
     "output_type": "stream",
     "text": [
      "Tests Passed\n"
     ]
    }
   ],
   "source": [
    "def seq2seq_model(input_data, target_data, keep_prob, batch_size,\n",
    "                  source_sequence_length, target_sequence_length,\n",
    "                  max_target_sentence_length,\n",
    "                  source_vocab_size, target_vocab_size,\n",
    "                  enc_embedding_size, dec_embedding_size,\n",
    "                  rnn_size, num_layers, target_vocab_to_int):\n",
    "    \"\"\"\n",
    "    Build the Sequence-to-Sequence part of the neural network\n",
    "    :param input_data: Input placeholder\n",
    "    :param target_data: Target placeholder\n",
    "    :param keep_prob: Dropout keep probability placeholder\n",
    "    :param batch_size: Batch Size\n",
    "    :param source_sequence_length: Sequence Lengths of source sequences in the batch\n",
    "    :param target_sequence_length: Sequence Lengths of target sequences in the batch\n",
    "    :param source_vocab_size: Source vocabulary size\n",
    "    :param target_vocab_size: Target vocabulary size\n",
    "    :param enc_embedding_size: Decoder embedding size\n",
    "    :param dec_embedding_size: Encoder embedding size\n",
    "    :param rnn_size: RNN Size\n",
    "    :param num_layers: Number of layers\n",
    "    :param target_vocab_to_int: Dictionary to go from the target words to an id\n",
    "    :return: Tuple of (Training BasicDecoderOutput, Inference BasicDecoderOutput)\n",
    "    \"\"\"\n",
    "    # TODO: Implement Function\n",
    "    enc_input, enc_state = encoding_layer(input_data, rnn_size, num_layers, keep_prob, source_sequence_length, \\\n",
    "                                          source_vocab_size, enc_embedding_size)\n",
    "    dec_input = process_decoder_input(target_data, target_vocab_to_int, batch_size)\n",
    "    return decoding_layer(dec_input, enc_state, target_sequence_length, max_target_sentence_length, \\\n",
    "                          rnn_size, num_layers, target_vocab_to_int, target_vocab_size, \\\n",
    "                          batch_size, keep_prob, dec_embedding_size)\n",
    "\n",
    "\n",
    "\n",
    "\"\"\"\n",
    "DON'T MODIFY ANYTHING IN THIS CELL THAT IS BELOW THIS LINE\n",
    "\"\"\"\n",
    "tests.test_seq2seq_model(seq2seq_model)"
   ]
  },
  {
   "cell_type": "markdown",
   "metadata": {
    "deletable": true,
    "editable": true
   },
   "source": [
    "## Neural Network Training\n",
    "### Hyperparameters\n",
    "Tune the following parameters:\n",
    "\n",
    "- Set `epochs` to the number of epochs.\n",
    "- Set `batch_size` to the batch size.\n",
    "- Set `rnn_size` to the size of the RNNs.\n",
    "- Set `num_layers` to the number of layers.\n",
    "- Set `encoding_embedding_size` to the size of the embedding for the encoder.\n",
    "- Set `decoding_embedding_size` to the size of the embedding for the decoder.\n",
    "- Set `learning_rate` to the learning rate.\n",
    "- Set `keep_probability` to the Dropout keep probability\n",
    "- Set `display_step` to state how many steps between each debug output statement"
   ]
  },
  {
   "cell_type": "code",
   "execution_count": 14,
   "metadata": {
    "collapsed": true,
    "deletable": true,
    "editable": true
   },
   "outputs": [],
   "source": [
    "# Number of Epochs\n",
    "epochs = 20\n",
    "# Batch Size\n",
    "batch_size = 1024\n",
    "# RNN Size\n",
    "rnn_size = 512\n",
    "# Number of Layers\n",
    "num_layers = 5\n",
    "# Embedding Size\n",
    "encoding_embedding_size = 256\n",
    "decoding_embedding_size = 256\n",
    "# Learning Rate\n",
    "learning_rate = 0.001\n",
    "# Dropout Keep Probability\n",
    "keep_probability = 0.5\n",
    "display_step = 10"
   ]
  },
  {
   "cell_type": "markdown",
   "metadata": {
    "deletable": true,
    "editable": true
   },
   "source": [
    "### Build the Graph\n",
    "Build the graph using the neural network you implemented."
   ]
  },
  {
   "cell_type": "code",
   "execution_count": 15,
   "metadata": {
    "collapsed": true,
    "deletable": true,
    "editable": true
   },
   "outputs": [],
   "source": [
    "\"\"\"\n",
    "DON'T MODIFY ANYTHING IN THIS CELL\n",
    "\"\"\"\n",
    "save_path = 'checkpoints/dev'\n",
    "(source_int_text, target_int_text), (source_vocab_to_int, target_vocab_to_int), _ = helper.load_preprocess()\n",
    "max_target_sentence_length = max([len(sentence) for sentence in source_int_text])\n",
    "\n",
    "train_graph = tf.Graph()\n",
    "with train_graph.as_default():\n",
    "    input_data, targets, lr, keep_prob, target_sequence_length, max_target_sequence_length, source_sequence_length = model_inputs()\n",
    "\n",
    "    #sequence_length = tf.placeholder_with_default(max_target_sentence_length, None, name='sequence_length')\n",
    "    input_shape = tf.shape(input_data)\n",
    "\n",
    "    train_logits, inference_logits = seq2seq_model(tf.reverse(input_data, [-1]),\n",
    "                                                   targets,\n",
    "                                                   keep_prob,\n",
    "                                                   batch_size,\n",
    "                                                   source_sequence_length,\n",
    "                                                   target_sequence_length,\n",
    "                                                   max_target_sequence_length,\n",
    "                                                   len(source_vocab_to_int),\n",
    "                                                   len(target_vocab_to_int),\n",
    "                                                   encoding_embedding_size,\n",
    "                                                   decoding_embedding_size,\n",
    "                                                   rnn_size,\n",
    "                                                   num_layers,\n",
    "                                                   target_vocab_to_int)\n",
    "\n",
    "\n",
    "    training_logits = tf.identity(train_logits.rnn_output, name='logits')\n",
    "    inference_logits = tf.identity(inference_logits.sample_id, name='predictions')\n",
    "\n",
    "    masks = tf.sequence_mask(target_sequence_length, max_target_sequence_length, dtype=tf.float32, name='masks')\n",
    "\n",
    "    with tf.name_scope(\"optimization\"):\n",
    "        # Loss function\n",
    "        cost = tf.contrib.seq2seq.sequence_loss(\n",
    "            training_logits,\n",
    "            targets,\n",
    "            masks)\n",
    "\n",
    "        # Optimizer\n",
    "        optimizer = tf.train.AdamOptimizer(lr)\n",
    "\n",
    "        # Gradient Clipping\n",
    "        gradients = optimizer.compute_gradients(cost)\n",
    "        capped_gradients = [(tf.clip_by_value(grad, -1., 1.), var) for grad, var in gradients if grad is not None]\n",
    "        train_op = optimizer.apply_gradients(capped_gradients)\n"
   ]
  },
  {
   "cell_type": "markdown",
   "metadata": {
    "deletable": true,
    "editable": true
   },
   "source": [
    "Batch and pad the source and target sequences"
   ]
  },
  {
   "cell_type": "code",
   "execution_count": null,
   "metadata": {
    "collapsed": true,
    "deletable": true,
    "editable": true
   },
   "outputs": [],
   "source": [
    "\"\"\"\n",
    "DON'T MODIFY ANYTHING IN THIS CELL\n",
    "\"\"\"\n",
    "def pad_sentence_batch(sentence_batch, pad_int):\n",
    "    \"\"\"Pad sentences with <PAD> so that each sentence of a batch has the same length\"\"\"\n",
    "    max_sentence = max([len(sentence) for sentence in sentence_batch])\n",
    "    return [sentence + [pad_int] * (max_sentence - len(sentence)) for sentence in sentence_batch]\n",
    "\n",
    "\n",
    "def get_batches(sources, targets, batch_size, source_pad_int, target_pad_int):\n",
    "    \"\"\"Batch targets, sources, and the lengths of their sentences together\"\"\"\n",
    "    for batch_i in range(0, len(sources)//batch_size):\n",
    "        start_i = batch_i * batch_size\n",
    "\n",
    "        # Slice the right amount for the batch\n",
    "        sources_batch = sources[start_i:start_i + batch_size]\n",
    "        targets_batch = targets[start_i:start_i + batch_size]\n",
    "\n",
    "        # Pad\n",
    "        pad_sources_batch = np.array(pad_sentence_batch(sources_batch, source_pad_int))\n",
    "        pad_targets_batch = np.array(pad_sentence_batch(targets_batch, target_pad_int))\n",
    "\n",
    "        # Need the lengths for the _lengths parameters\n",
    "        pad_targets_lengths = []\n",
    "        for target in pad_targets_batch:\n",
    "            pad_targets_lengths.append(len(target))\n",
    "\n",
    "        pad_source_lengths = []\n",
    "        for source in pad_sources_batch:\n",
    "            pad_source_lengths.append(len(source))\n",
    "\n",
    "        yield pad_sources_batch, pad_targets_batch, pad_source_lengths, pad_targets_lengths\n"
   ]
  },
  {
   "cell_type": "markdown",
   "metadata": {
    "deletable": true,
    "editable": true
   },
   "source": [
    "### Train\n",
    "Train the neural network on the preprocessed data. If you have a hard time getting a good loss, check the forms to see if anyone is having the same problem."
   ]
  },
  {
   "cell_type": "code",
   "execution_count": null,
   "metadata": {
    "collapsed": false,
    "deletable": true,
    "editable": true,
    "scrolled": true
   },
   "outputs": [
    {
     "name": "stdout",
     "output_type": "stream",
     "text": [
      "Epoch   0 Batch   10/134 - Train Accuracy: 0.3257, Validation Accuracy: 0.3558, Loss: 3.2654\n",
      "Epoch   0 Batch   20/134 - Train Accuracy: 0.4078, Validation Accuracy: 0.4103, Loss: 2.6072\n",
      "Epoch   0 Batch   30/134 - Train Accuracy: 0.4281, Validation Accuracy: 0.4347, Loss: 2.2243\n",
      "Epoch   0 Batch   40/134 - Train Accuracy: 0.4440, Validation Accuracy: 0.4679, Loss: 2.0718\n",
      "Epoch   0 Batch   50/134 - Train Accuracy: 0.4516, Validation Accuracy: 0.4857, Loss: 1.8109\n",
      "Epoch   0 Batch   60/134 - Train Accuracy: 0.4848, Validation Accuracy: 0.5115, Loss: 1.6178\n",
      "Epoch   0 Batch   70/134 - Train Accuracy: 0.5069, Validation Accuracy: 0.5170, Loss: 1.4944\n",
      "Epoch   0 Batch   80/134 - Train Accuracy: 0.4398, Validation Accuracy: 0.4721, Loss: 1.4742\n",
      "Epoch   0 Batch   90/134 - Train Accuracy: 0.4798, Validation Accuracy: 0.5004, Loss: 1.4053\n",
      "Epoch   0 Batch  100/134 - Train Accuracy: 0.4840, Validation Accuracy: 0.5116, Loss: 1.3226\n",
      "Epoch   0 Batch  110/134 - Train Accuracy: 0.4704, Validation Accuracy: 0.5024, Loss: 1.2463\n",
      "Epoch   0 Batch  120/134 - Train Accuracy: 0.5116, Validation Accuracy: 0.5268, Loss: 1.1894\n",
      "Epoch   0 Batch  130/134 - Train Accuracy: 0.4645, Validation Accuracy: 0.4936, Loss: 1.1725\n",
      "Epoch   1 Batch   10/134 - Train Accuracy: 0.5194, Validation Accuracy: 0.5267, Loss: 1.1021\n",
      "Epoch   1 Batch   20/134 - Train Accuracy: 0.5453, Validation Accuracy: 0.5383, Loss: 1.0212\n",
      "Epoch   1 Batch   30/134 - Train Accuracy: 0.5436, Validation Accuracy: 0.5333, Loss: 0.9908\n",
      "Epoch   1 Batch   40/134 - Train Accuracy: 0.5159, Validation Accuracy: 0.5299, Loss: 1.0013\n",
      "Epoch   1 Batch   50/134 - Train Accuracy: 0.5226, Validation Accuracy: 0.5442, Loss: 0.9806\n",
      "Epoch   1 Batch   60/134 - Train Accuracy: 0.5339, Validation Accuracy: 0.5480, Loss: 0.9676\n",
      "Epoch   1 Batch   70/134 - Train Accuracy: 0.5475, Validation Accuracy: 0.5507, Loss: 0.9174\n",
      "Epoch   1 Batch   80/134 - Train Accuracy: 0.5385, Validation Accuracy: 0.5485, Loss: 0.9250\n",
      "Epoch   1 Batch   90/134 - Train Accuracy: 0.5419, Validation Accuracy: 0.5520, Loss: 0.9151\n",
      "Epoch   1 Batch  100/134 - Train Accuracy: 0.5412, Validation Accuracy: 0.5483, Loss: 0.8771\n",
      "Epoch   1 Batch  110/134 - Train Accuracy: 0.5432, Validation Accuracy: 0.5501, Loss: 0.8852\n",
      "Epoch   1 Batch  120/134 - Train Accuracy: 0.5429, Validation Accuracy: 0.5556, Loss: 0.8740\n",
      "Epoch   1 Batch  130/134 - Train Accuracy: 0.5708, Validation Accuracy: 0.5819, Loss: 0.8681\n",
      "Epoch   2 Batch   10/134 - Train Accuracy: 0.4587, Validation Accuracy: 0.4665, Loss: 1.1548\n",
      "Epoch   2 Batch   20/134 - Train Accuracy: 0.5470, Validation Accuracy: 0.5444, Loss: 0.9154\n",
      "Epoch   2 Batch   30/134 - Train Accuracy: 0.5638, Validation Accuracy: 0.5581, Loss: 0.8474\n",
      "Epoch   2 Batch   40/134 - Train Accuracy: 0.5743, Validation Accuracy: 0.5831, Loss: 0.8357\n",
      "Epoch   2 Batch   50/134 - Train Accuracy: 0.5745, Validation Accuracy: 0.5881, Loss: 0.8233\n",
      "Epoch   2 Batch   60/134 - Train Accuracy: 0.5883, Validation Accuracy: 0.5938, Loss: 0.7946\n",
      "Epoch   2 Batch   70/134 - Train Accuracy: 0.5878, Validation Accuracy: 0.5907, Loss: 0.7613\n",
      "Epoch   2 Batch   80/134 - Train Accuracy: 0.5868, Validation Accuracy: 0.5971, Loss: 0.7606\n",
      "Epoch   2 Batch   90/134 - Train Accuracy: 0.5867, Validation Accuracy: 0.6036, Loss: 0.7539\n",
      "Epoch   2 Batch  100/134 - Train Accuracy: 0.5972, Validation Accuracy: 0.6075, Loss: 0.7366\n",
      "Epoch   2 Batch  110/134 - Train Accuracy: 0.6089, Validation Accuracy: 0.6102, Loss: 0.7197\n",
      "Epoch   2 Batch  120/134 - Train Accuracy: 0.5970, Validation Accuracy: 0.6157, Loss: 0.7203\n",
      "Epoch   2 Batch  130/134 - Train Accuracy: 0.6022, Validation Accuracy: 0.6203, Loss: 0.7019\n",
      "Epoch   3 Batch   10/134 - Train Accuracy: 0.6145, Validation Accuracy: 0.6217, Loss: 0.6863\n",
      "Epoch   3 Batch   20/134 - Train Accuracy: 0.6323, Validation Accuracy: 0.6246, Loss: 0.6484\n",
      "Epoch   3 Batch   30/134 - Train Accuracy: 0.6322, Validation Accuracy: 0.6233, Loss: 0.6294\n",
      "Epoch   3 Batch   40/134 - Train Accuracy: 0.6163, Validation Accuracy: 0.6265, Loss: 0.6496\n",
      "Epoch   3 Batch   50/134 - Train Accuracy: 0.6192, Validation Accuracy: 0.6321, Loss: 0.6445\n",
      "Epoch   3 Batch   60/134 - Train Accuracy: 0.6218, Validation Accuracy: 0.6350, Loss: 0.6273\n",
      "Epoch   3 Batch   70/134 - Train Accuracy: 0.6357, Validation Accuracy: 0.6381, Loss: 0.6131\n",
      "Epoch   3 Batch   80/134 - Train Accuracy: 0.6276, Validation Accuracy: 0.6407, Loss: 0.6102\n",
      "Epoch   3 Batch   90/134 - Train Accuracy: 0.6256, Validation Accuracy: 0.6294, Loss: 0.6061\n",
      "Epoch   3 Batch  100/134 - Train Accuracy: 0.6237, Validation Accuracy: 0.6354, Loss: 0.5880\n",
      "Epoch   3 Batch  110/134 - Train Accuracy: 0.6374, Validation Accuracy: 0.6211, Loss: 0.5781\n",
      "Epoch   3 Batch  120/134 - Train Accuracy: 0.6315, Validation Accuracy: 0.6344, Loss: 0.5789\n",
      "Epoch   3 Batch  130/134 - Train Accuracy: 0.6260, Validation Accuracy: 0.6396, Loss: 0.5667\n",
      "Epoch   4 Batch   10/134 - Train Accuracy: 0.6529, Validation Accuracy: 0.6545, Loss: 0.5532\n",
      "Epoch   4 Batch   20/134 - Train Accuracy: 0.6597, Validation Accuracy: 0.6521, Loss: 0.5196\n",
      "Epoch   4 Batch   30/134 - Train Accuracy: 0.6650, Validation Accuracy: 0.6518, Loss: 0.5073\n",
      "Epoch   4 Batch   40/134 - Train Accuracy: 0.6567, Validation Accuracy: 0.6524, Loss: 0.5227\n",
      "Epoch   4 Batch   50/134 - Train Accuracy: 0.6456, Validation Accuracy: 0.6528, Loss: 0.5208\n",
      "Epoch   4 Batch   60/134 - Train Accuracy: 0.6512, Validation Accuracy: 0.6614, Loss: 0.5087\n",
      "Epoch   4 Batch   70/134 - Train Accuracy: 0.6608, Validation Accuracy: 0.6598, Loss: 0.4968\n",
      "Epoch   4 Batch   80/134 - Train Accuracy: 0.6631, Validation Accuracy: 0.6635, Loss: 0.4905\n",
      "Epoch   4 Batch   90/134 - Train Accuracy: 0.6691, Validation Accuracy: 0.6672, Loss: 0.4893\n",
      "Epoch   4 Batch  100/134 - Train Accuracy: 0.6571, Validation Accuracy: 0.6662, Loss: 0.4700\n",
      "Epoch   4 Batch  110/134 - Train Accuracy: 0.6829, Validation Accuracy: 0.6780, Loss: 0.4673\n",
      "Epoch   4 Batch  120/134 - Train Accuracy: 0.6904, Validation Accuracy: 0.6901, Loss: 0.4712\n",
      "Epoch   4 Batch  130/134 - Train Accuracy: 0.6925, Validation Accuracy: 0.7056, Loss: 0.4536\n",
      "Epoch   5 Batch   10/134 - Train Accuracy: 0.7041, Validation Accuracy: 0.7125, Loss: 0.4445\n",
      "Epoch   5 Batch   20/134 - Train Accuracy: 0.7212, Validation Accuracy: 0.7083, Loss: 0.4177\n",
      "Epoch   5 Batch   30/134 - Train Accuracy: 0.7107, Validation Accuracy: 0.7073, Loss: 0.4120\n",
      "Epoch   5 Batch   40/134 - Train Accuracy: 0.7114, Validation Accuracy: 0.7164, Loss: 0.4200\n",
      "Epoch   5 Batch   50/134 - Train Accuracy: 0.7047, Validation Accuracy: 0.7062, Loss: 0.4178\n",
      "Epoch   5 Batch   60/134 - Train Accuracy: 0.7144, Validation Accuracy: 0.7180, Loss: 0.4076\n",
      "Epoch   5 Batch   70/134 - Train Accuracy: 0.7156, Validation Accuracy: 0.7146, Loss: 0.3967\n",
      "Epoch   5 Batch   80/134 - Train Accuracy: 0.7327, Validation Accuracy: 0.7218, Loss: 0.3915\n",
      "Epoch   5 Batch   90/134 - Train Accuracy: 0.7348, Validation Accuracy: 0.7307, Loss: 0.3910\n",
      "Epoch   5 Batch  100/134 - Train Accuracy: 0.7247, Validation Accuracy: 0.7259, Loss: 0.3800\n",
      "Epoch   5 Batch  110/134 - Train Accuracy: 0.7412, Validation Accuracy: 0.7317, Loss: 0.3757\n",
      "Epoch   5 Batch  120/134 - Train Accuracy: 0.7351, Validation Accuracy: 0.7334, Loss: 0.3745\n",
      "Epoch   5 Batch  130/134 - Train Accuracy: 0.7383, Validation Accuracy: 0.7394, Loss: 0.3576\n",
      "Epoch   6 Batch   10/134 - Train Accuracy: 0.7401, Validation Accuracy: 0.7512, Loss: 0.3509\n",
      "Epoch   6 Batch   20/134 - Train Accuracy: 0.7689, Validation Accuracy: 0.7514, Loss: 0.3300\n",
      "Epoch   6 Batch   40/134 - Train Accuracy: 0.7652, Validation Accuracy: 0.7608, Loss: 0.3201\n",
      "Epoch   6 Batch   50/134 - Train Accuracy: 0.7535, Validation Accuracy: 0.7604, Loss: 0.3186\n",
      "Epoch   6 Batch   60/134 - Train Accuracy: 0.7628, Validation Accuracy: 0.7662, Loss: 0.3133\n",
      "Epoch   6 Batch   70/134 - Train Accuracy: 0.7702, Validation Accuracy: 0.7630, Loss: 0.3066\n",
      "Epoch   6 Batch   80/134 - Train Accuracy: 0.7733, Validation Accuracy: 0.7749, Loss: 0.2966\n",
      "Epoch   6 Batch   90/134 - Train Accuracy: 0.7865, Validation Accuracy: 0.7765, Loss: 0.2977\n",
      "Epoch   6 Batch  100/134 - Train Accuracy: 0.7841, Validation Accuracy: 0.7834, Loss: 0.2835\n",
      "Epoch   6 Batch  110/134 - Train Accuracy: 0.8006, Validation Accuracy: 0.7915, Loss: 0.2738\n",
      "Epoch   6 Batch  120/134 - Train Accuracy: 0.7902, Validation Accuracy: 0.7948, Loss: 0.2788\n",
      "Epoch   6 Batch  130/134 - Train Accuracy: 0.7913, Validation Accuracy: 0.7961, Loss: 0.2616\n",
      "Epoch   7 Batch   10/134 - Train Accuracy: 0.7967, Validation Accuracy: 0.8056, Loss: 0.2543\n",
      "Epoch   7 Batch   20/134 - Train Accuracy: 0.8090, Validation Accuracy: 0.8128, Loss: 0.2379\n",
      "Epoch   7 Batch   30/134 - Train Accuracy: 0.8267, Validation Accuracy: 0.8021, Loss: 0.2343\n",
      "Epoch   7 Batch   40/134 - Train Accuracy: 0.8178, Validation Accuracy: 0.8118, Loss: 0.2351\n",
      "Epoch   7 Batch   50/134 - Train Accuracy: 0.8008, Validation Accuracy: 0.8087, Loss: 0.2330\n",
      "Epoch   7 Batch   60/134 - Train Accuracy: 0.8053, Validation Accuracy: 0.8145, Loss: 0.2264\n",
      "Epoch   7 Batch   70/134 - Train Accuracy: 0.8214, Validation Accuracy: 0.8294, Loss: 0.2194\n",
      "Epoch   7 Batch   80/134 - Train Accuracy: 0.8256, Validation Accuracy: 0.8276, Loss: 0.2086\n",
      "Epoch   7 Batch   90/134 - Train Accuracy: 0.8409, Validation Accuracy: 0.8387, Loss: 0.2112\n",
      "Epoch   7 Batch  100/134 - Train Accuracy: 0.8227, Validation Accuracy: 0.8450, Loss: 0.2045\n",
      "Epoch   7 Batch  110/134 - Train Accuracy: 0.8522, Validation Accuracy: 0.8456, Loss: 0.1989\n",
      "Epoch   7 Batch  120/134 - Train Accuracy: 0.8445, Validation Accuracy: 0.8428, Loss: 0.2000\n",
      "Epoch   7 Batch  130/134 - Train Accuracy: 0.8394, Validation Accuracy: 0.8417, Loss: 0.1842\n",
      "Epoch   8 Batch   10/134 - Train Accuracy: 0.8434, Validation Accuracy: 0.8461, Loss: 0.1847\n",
      "Epoch   8 Batch   20/134 - Train Accuracy: 0.8503, Validation Accuracy: 0.8498, Loss: 0.1711\n",
      "Epoch   8 Batch   30/134 - Train Accuracy: 0.8623, Validation Accuracy: 0.8473, Loss: 0.1651\n",
      "Epoch   8 Batch   40/134 - Train Accuracy: 0.8614, Validation Accuracy: 0.8521, Loss: 0.1682\n",
      "Epoch   8 Batch   50/134 - Train Accuracy: 0.8435, Validation Accuracy: 0.8607, Loss: 0.1648\n",
      "Epoch   8 Batch   60/134 - Train Accuracy: 0.8474, Validation Accuracy: 0.8663, Loss: 0.1583\n",
      "Epoch   8 Batch   70/134 - Train Accuracy: 0.8571, Validation Accuracy: 0.8606, Loss: 0.1591\n",
      "Epoch   8 Batch   80/134 - Train Accuracy: 0.8604, Validation Accuracy: 0.8614, Loss: 0.1518\n",
      "Epoch   8 Batch   90/134 - Train Accuracy: 0.8642, Validation Accuracy: 0.8612, Loss: 0.1569\n",
      "Epoch   8 Batch  100/134 - Train Accuracy: 0.8533, Validation Accuracy: 0.8630, Loss: 0.1751\n",
      "Epoch   8 Batch  110/134 - Train Accuracy: 0.8770, Validation Accuracy: 0.8629, Loss: 0.1521\n",
      "Epoch   8 Batch  120/134 - Train Accuracy: 0.8708, Validation Accuracy: 0.8646, Loss: 0.1570\n",
      "Epoch   8 Batch  130/134 - Train Accuracy: 0.8642, Validation Accuracy: 0.8667, Loss: 0.1427\n",
      "Epoch   9 Batch   10/134 - Train Accuracy: 0.8642, Validation Accuracy: 0.8739, Loss: 0.1384\n",
      "Epoch   9 Batch   20/134 - Train Accuracy: 0.8734, Validation Accuracy: 0.8654, Loss: 0.1291\n",
      "Epoch   9 Batch   30/134 - Train Accuracy: 0.8992, Validation Accuracy: 0.8787, Loss: 0.1316\n",
      "Epoch   9 Batch   40/134 - Train Accuracy: 0.8837, Validation Accuracy: 0.8845, Loss: 0.1296\n",
      "Epoch   9 Batch   50/134 - Train Accuracy: 0.8664, Validation Accuracy: 0.8840, Loss: 0.1302\n",
      "Epoch   9 Batch   60/134 - Train Accuracy: 0.8865, Validation Accuracy: 0.8877, Loss: 0.1222\n",
      "Epoch   9 Batch   70/134 - Train Accuracy: 0.8845, Validation Accuracy: 0.8928, Loss: 0.1243\n",
      "Epoch   9 Batch   80/134 - Train Accuracy: 0.8797, Validation Accuracy: 0.8882, Loss: 0.1171\n",
      "Epoch   9 Batch   90/134 - Train Accuracy: 0.8841, Validation Accuracy: 0.8877, Loss: 0.1205\n",
      "Epoch   9 Batch  100/134 - Train Accuracy: 0.8805, Validation Accuracy: 0.8936, Loss: 0.1232\n",
      "Epoch   9 Batch  110/134 - Train Accuracy: 0.9006, Validation Accuracy: 0.8936, Loss: 0.1135\n",
      "Epoch   9 Batch  120/134 - Train Accuracy: 0.8956, Validation Accuracy: 0.8918, Loss: 0.1167\n",
      "Epoch   9 Batch  130/134 - Train Accuracy: 0.8872, Validation Accuracy: 0.8982, Loss: 0.1101\n",
      "Epoch  10 Batch   10/134 - Train Accuracy: 0.8876, Validation Accuracy: 0.8967, Loss: 0.1098\n",
      "Epoch  10 Batch   20/134 - Train Accuracy: 0.8897, Validation Accuracy: 0.8965, Loss: 0.1051\n",
      "Epoch  10 Batch   30/134 - Train Accuracy: 0.9100, Validation Accuracy: 0.8949, Loss: 0.1031\n",
      "Epoch  10 Batch   40/134 - Train Accuracy: 0.8926, Validation Accuracy: 0.8968, Loss: 0.1033\n",
      "Epoch  10 Batch   50/134 - Train Accuracy: 0.8873, Validation Accuracy: 0.8954, Loss: 0.1052\n",
      "Epoch  10 Batch   60/134 - Train Accuracy: 0.8990, Validation Accuracy: 0.8980, Loss: 0.1011\n",
      "Epoch  10 Batch   70/134 - Train Accuracy: 0.8962, Validation Accuracy: 0.9067, Loss: 0.1046\n",
      "Epoch  10 Batch   80/134 - Train Accuracy: 0.9000, Validation Accuracy: 0.9039, Loss: 0.0956\n",
      "Epoch  10 Batch   90/134 - Train Accuracy: 0.9053, Validation Accuracy: 0.9062, Loss: 0.1016\n",
      "Epoch  10 Batch  100/134 - Train Accuracy: 0.9138, Validation Accuracy: 0.9137, Loss: 0.0970\n",
      "Epoch  10 Batch  110/134 - Train Accuracy: 0.9179, Validation Accuracy: 0.9069, Loss: 0.0939\n",
      "Epoch  10 Batch  120/134 - Train Accuracy: 0.9140, Validation Accuracy: 0.9131, Loss: 0.0982\n",
      "Epoch  10 Batch  130/134 - Train Accuracy: 0.9146, Validation Accuracy: 0.9160, Loss: 0.0895\n",
      "Epoch  11 Batch   10/134 - Train Accuracy: 0.9042, Validation Accuracy: 0.9220, Loss: 0.0911\n",
      "Epoch  11 Batch   20/134 - Train Accuracy: 0.9163, Validation Accuracy: 0.9202, Loss: 0.0866\n",
      "Epoch  11 Batch   30/134 - Train Accuracy: 0.9251, Validation Accuracy: 0.9212, Loss: 0.0824\n",
      "Epoch  11 Batch   40/134 - Train Accuracy: 0.9224, Validation Accuracy: 0.9224, Loss: 0.0846\n",
      "Epoch  11 Batch   50/134 - Train Accuracy: 0.9112, Validation Accuracy: 0.9221, Loss: 0.0873\n",
      "Epoch  11 Batch   60/134 - Train Accuracy: 0.9225, Validation Accuracy: 0.9233, Loss: 0.0817\n",
      "Epoch  11 Batch   70/134 - Train Accuracy: 0.9184, Validation Accuracy: 0.9275, Loss: 0.0875\n",
      "Epoch  11 Batch   80/134 - Train Accuracy: 0.9259, Validation Accuracy: 0.9221, Loss: 0.0820\n",
      "Epoch  11 Batch   90/134 - Train Accuracy: 0.9192, Validation Accuracy: 0.9225, Loss: 0.0905\n",
      "Epoch  11 Batch  100/134 - Train Accuracy: 0.9196, Validation Accuracy: 0.9295, Loss: 0.0826\n",
      "Epoch  11 Batch  110/134 - Train Accuracy: 0.9291, Validation Accuracy: 0.9253, Loss: 0.0788\n",
      "Epoch  11 Batch  120/134 - Train Accuracy: 0.9236, Validation Accuracy: 0.9290, Loss: 0.0831\n",
      "Epoch  11 Batch  130/134 - Train Accuracy: 0.9284, Validation Accuracy: 0.9296, Loss: 0.0725\n",
      "Epoch  12 Batch   10/134 - Train Accuracy: 0.9166, Validation Accuracy: 0.9260, Loss: 0.0765\n",
      "Epoch  12 Batch   20/134 - Train Accuracy: 0.9222, Validation Accuracy: 0.9327, Loss: 0.0708\n",
      "Epoch  12 Batch   30/134 - Train Accuracy: 0.9272, Validation Accuracy: 0.9302, Loss: 0.0696\n",
      "Epoch  12 Batch   40/134 - Train Accuracy: 0.9288, Validation Accuracy: 0.9302, Loss: 0.0739\n",
      "Epoch  12 Batch   50/134 - Train Accuracy: 0.9219, Validation Accuracy: 0.9316, Loss: 0.0737\n",
      "Epoch  12 Batch   60/134 - Train Accuracy: 0.9350, Validation Accuracy: 0.9326, Loss: 0.0666\n",
      "Epoch  12 Batch   70/134 - Train Accuracy: 0.9311, Validation Accuracy: 0.9391, Loss: 0.0700\n",
      "Epoch  12 Batch   80/134 - Train Accuracy: 0.9375, Validation Accuracy: 0.9377, Loss: 0.0643\n",
      "Epoch  12 Batch   90/134 - Train Accuracy: 0.9327, Validation Accuracy: 0.9361, Loss: 0.0699\n",
      "Epoch  12 Batch  100/134 - Train Accuracy: 0.9290, Validation Accuracy: 0.9398, Loss: 0.0672\n",
      "Epoch  12 Batch  110/134 - Train Accuracy: 0.9399, Validation Accuracy: 0.9414, Loss: 0.0615\n",
      "Epoch  12 Batch  120/134 - Train Accuracy: 0.9321, Validation Accuracy: 0.9401, Loss: 0.0669\n",
      "Epoch  12 Batch  130/134 - Train Accuracy: 0.9415, Validation Accuracy: 0.9431, Loss: 0.0591\n",
      "Epoch  13 Batch   10/134 - Train Accuracy: 0.9282, Validation Accuracy: 0.9393, Loss: 0.0601\n",
      "Epoch  13 Batch   20/134 - Train Accuracy: 0.9369, Validation Accuracy: 0.9442, Loss: 0.0569\n",
      "Epoch  13 Batch   30/134 - Train Accuracy: 0.9383, Validation Accuracy: 0.9401, Loss: 0.0549\n",
      "Epoch  13 Batch   40/134 - Train Accuracy: 0.9423, Validation Accuracy: 0.9448, Loss: 0.0578\n",
      "Epoch  13 Batch   50/134 - Train Accuracy: 0.9343, Validation Accuracy: 0.9455, Loss: 0.0582\n",
      "Epoch  13 Batch   60/134 - Train Accuracy: 0.9443, Validation Accuracy: 0.9436, Loss: 0.0552\n",
      "Epoch  13 Batch   70/134 - Train Accuracy: 0.9405, Validation Accuracy: 0.9476, Loss: 0.0610\n",
      "Epoch  13 Batch   80/134 - Train Accuracy: 0.9473, Validation Accuracy: 0.9454, Loss: 0.0551\n",
      "Epoch  13 Batch   90/134 - Train Accuracy: 0.9411, Validation Accuracy: 0.9462, Loss: 0.0575\n",
      "Epoch  13 Batch  100/134 - Train Accuracy: 0.9394, Validation Accuracy: 0.9466, Loss: 0.0598\n",
      "Epoch  13 Batch  110/134 - Train Accuracy: 0.9465, Validation Accuracy: 0.9471, Loss: 0.0512\n",
      "Epoch  13 Batch  120/134 - Train Accuracy: 0.9402, Validation Accuracy: 0.9470, Loss: 0.0547\n",
      "Epoch  13 Batch  130/134 - Train Accuracy: 0.9464, Validation Accuracy: 0.9517, Loss: 0.0487\n",
      "Epoch  14 Batch   10/134 - Train Accuracy: 0.9384, Validation Accuracy: 0.9490, Loss: 0.0480\n",
      "Epoch  14 Batch   20/134 - Train Accuracy: 0.9429, Validation Accuracy: 0.9520, Loss: 0.0430\n",
      "Epoch  14 Batch   30/134 - Train Accuracy: 0.9445, Validation Accuracy: 0.9502, Loss: 0.0454\n",
      "Epoch  14 Batch   40/134 - Train Accuracy: 0.9462, Validation Accuracy: 0.9505, Loss: 0.0449\n",
      "Epoch  14 Batch   50/134 - Train Accuracy: 0.9400, Validation Accuracy: 0.9498, Loss: 0.0456\n",
      "Epoch  14 Batch   60/134 - Train Accuracy: 0.9468, Validation Accuracy: 0.9515, Loss: 0.0426\n",
      "Epoch  14 Batch   70/134 - Train Accuracy: 0.9474, Validation Accuracy: 0.9541, Loss: 0.0468\n",
      "Epoch  14 Batch   80/134 - Train Accuracy: 0.9551, Validation Accuracy: 0.9494, Loss: 0.0435\n",
      "Epoch  14 Batch   90/134 - Train Accuracy: 0.9441, Validation Accuracy: 0.9509, Loss: 0.0447\n",
      "Epoch  14 Batch  100/134 - Train Accuracy: 0.9401, Validation Accuracy: 0.9501, Loss: 0.0463\n",
      "Epoch  14 Batch  110/134 - Train Accuracy: 0.8910, Validation Accuracy: 0.8784, Loss: 0.0945\n",
      "Epoch  14 Batch  120/134 - Train Accuracy: 0.9296, Validation Accuracy: 0.9324, Loss: 0.0657\n",
      "Epoch  14 Batch  130/134 - Train Accuracy: 0.9493, Validation Accuracy: 0.9548, Loss: 0.0514\n",
      "Epoch  15 Batch   10/134 - Train Accuracy: 0.9355, Validation Accuracy: 0.9462, Loss: 0.0469\n",
      "Epoch  15 Batch   20/134 - Train Accuracy: 0.9481, Validation Accuracy: 0.9528, Loss: 0.0425\n",
      "Epoch  15 Batch   30/134 - Train Accuracy: 0.9439, Validation Accuracy: 0.9529, Loss: 0.0415\n",
      "Epoch  15 Batch   40/134 - Train Accuracy: 0.9492, Validation Accuracy: 0.9524, Loss: 0.0421\n",
      "Epoch  15 Batch   50/134 - Train Accuracy: 0.9463, Validation Accuracy: 0.9525, Loss: 0.0432\n",
      "Epoch  15 Batch   60/134 - Train Accuracy: 0.9537, Validation Accuracy: 0.9513, Loss: 0.0393\n",
      "Epoch  15 Batch   70/134 - Train Accuracy: 0.9461, Validation Accuracy: 0.9556, Loss: 0.0427\n",
      "Epoch  15 Batch   80/134 - Train Accuracy: 0.9603, Validation Accuracy: 0.9546, Loss: 0.0380\n",
      "Epoch  15 Batch   90/134 - Train Accuracy: 0.9520, Validation Accuracy: 0.9594, Loss: 0.0404\n",
      "Epoch  15 Batch  100/134 - Train Accuracy: 0.9528, Validation Accuracy: 0.9568, Loss: 0.0448\n",
      "Epoch  15 Batch  110/134 - Train Accuracy: 0.9577, Validation Accuracy: 0.9557, Loss: 0.0381\n",
      "Epoch  15 Batch  120/134 - Train Accuracy: 0.9524, Validation Accuracy: 0.9565, Loss: 0.0408\n",
      "Epoch  15 Batch  130/134 - Train Accuracy: 0.9594, Validation Accuracy: 0.9599, Loss: 0.0355\n",
      "Epoch  16 Batch   10/134 - Train Accuracy: 0.9484, Validation Accuracy: 0.9565, Loss: 0.0371\n",
      "Epoch  16 Batch   20/134 - Train Accuracy: 0.9567, Validation Accuracy: 0.9582, Loss: 0.0384\n",
      "Epoch  16 Batch   30/134 - Train Accuracy: 0.9528, Validation Accuracy: 0.9579, Loss: 0.0358\n",
      "Epoch  16 Batch   40/134 - Train Accuracy: 0.9559, Validation Accuracy: 0.9612, Loss: 0.0398\n",
      "Epoch  16 Batch   50/134 - Train Accuracy: 0.9496, Validation Accuracy: 0.9553, Loss: 0.0368\n",
      "Epoch  16 Batch   60/134 - Train Accuracy: 0.9550, Validation Accuracy: 0.9552, Loss: 0.0336\n",
      "Epoch  16 Batch   70/134 - Train Accuracy: 0.9532, Validation Accuracy: 0.9593, Loss: 0.0373\n",
      "Epoch  16 Batch   80/134 - Train Accuracy: 0.9625, Validation Accuracy: 0.9617, Loss: 0.0328\n",
      "Epoch  16 Batch   90/134 - Train Accuracy: 0.9552, Validation Accuracy: 0.9616, Loss: 0.0360\n",
      "Epoch  16 Batch  100/134 - Train Accuracy: 0.9586, Validation Accuracy: 0.9621, Loss: 0.0357\n",
      "Epoch  16 Batch  110/134 - Train Accuracy: 0.9642, Validation Accuracy: 0.9652, Loss: 0.0310\n",
      "Epoch  16 Batch  120/134 - Train Accuracy: 0.9568, Validation Accuracy: 0.9640, Loss: 0.0360\n",
      "Epoch  16 Batch  130/134 - Train Accuracy: 0.9644, Validation Accuracy: 0.9617, Loss: 0.0302\n",
      "Epoch  17 Batch   10/134 - Train Accuracy: 0.9541, Validation Accuracy: 0.9668, Loss: 0.0323\n",
      "Epoch  17 Batch   20/134 - Train Accuracy: 0.9632, Validation Accuracy: 0.9647, Loss: 0.0301\n",
      "Epoch  17 Batch   30/134 - Train Accuracy: 0.9545, Validation Accuracy: 0.9642, Loss: 0.0318\n",
      "Epoch  17 Batch   40/134 - Train Accuracy: 0.9581, Validation Accuracy: 0.9690, Loss: 0.0296\n",
      "Epoch  17 Batch   50/134 - Train Accuracy: 0.9562, Validation Accuracy: 0.9634, Loss: 0.0316\n",
      "Epoch  17 Batch   60/134 - Train Accuracy: 0.9622, Validation Accuracy: 0.9658, Loss: 0.0303\n",
      "Epoch  17 Batch   70/134 - Train Accuracy: 0.9594, Validation Accuracy: 0.9688, Loss: 0.0332\n",
      "Epoch  17 Batch   80/134 - Train Accuracy: 0.9613, Validation Accuracy: 0.9624, Loss: 0.0300\n",
      "Epoch  17 Batch   90/134 - Train Accuracy: 0.9606, Validation Accuracy: 0.9677, Loss: 0.0327\n",
      "Epoch  17 Batch  100/134 - Train Accuracy: 0.9607, Validation Accuracy: 0.9644, Loss: 0.0329\n",
      "Epoch  17 Batch  110/134 - Train Accuracy: 0.9662, Validation Accuracy: 0.9647, Loss: 0.0288\n",
      "Epoch  17 Batch  120/134 - Train Accuracy: 0.9636, Validation Accuracy: 0.9672, Loss: 0.0326\n",
      "Epoch  17 Batch  130/134 - Train Accuracy: 0.9693, Validation Accuracy: 0.9694, Loss: 0.0272\n",
      "Epoch  18 Batch   10/134 - Train Accuracy: 0.9616, Validation Accuracy: 0.9660, Loss: 0.0281\n",
      "Epoch  18 Batch   20/134 - Train Accuracy: 0.9676, Validation Accuracy: 0.9655, Loss: 0.0270\n",
      "Epoch  18 Batch   30/134 - Train Accuracy: 0.9599, Validation Accuracy: 0.9688, Loss: 0.0287\n",
      "Epoch  18 Batch   40/134 - Train Accuracy: 0.9637, Validation Accuracy: 0.9698, Loss: 0.0263\n",
      "Epoch  18 Batch   50/134 - Train Accuracy: 0.9636, Validation Accuracy: 0.9652, Loss: 0.0274\n",
      "Epoch  18 Batch   60/134 - Train Accuracy: 0.9650, Validation Accuracy: 0.9705, Loss: 0.0263\n",
      "Epoch  18 Batch   70/134 - Train Accuracy: 0.9645, Validation Accuracy: 0.9724, Loss: 0.0315\n",
      "Epoch  18 Batch   80/134 - Train Accuracy: 0.9701, Validation Accuracy: 0.9673, Loss: 0.0279\n",
      "Epoch  18 Batch   90/134 - Train Accuracy: 0.9702, Validation Accuracy: 0.9702, Loss: 0.0278\n",
      "Epoch  18 Batch  100/134 - Train Accuracy: 0.9673, Validation Accuracy: 0.9662, Loss: 0.0285\n",
      "Epoch  18 Batch  110/134 - Train Accuracy: 0.9670, Validation Accuracy: 0.9706, Loss: 0.0268\n",
      "Epoch  18 Batch  120/134 - Train Accuracy: 0.9627, Validation Accuracy: 0.9690, Loss: 0.0297\n",
      "Epoch  18 Batch  130/134 - Train Accuracy: 0.9726, Validation Accuracy: 0.9716, Loss: 0.0266\n",
      "Epoch  19 Batch   10/134 - Train Accuracy: 0.9634, Validation Accuracy: 0.9679, Loss: 0.0289\n",
      "Epoch  19 Batch   20/134 - Train Accuracy: 0.9698, Validation Accuracy: 0.9649, Loss: 0.0261\n",
      "Epoch  19 Batch   30/134 - Train Accuracy: 0.9648, Validation Accuracy: 0.9691, Loss: 0.0258\n",
      "Epoch  19 Batch   40/134 - Train Accuracy: 0.9647, Validation Accuracy: 0.9699, Loss: 0.0276\n",
      "Epoch  19 Batch   50/134 - Train Accuracy: 0.9649, Validation Accuracy: 0.9719, Loss: 0.0272\n",
      "Epoch  19 Batch   60/134 - Train Accuracy: 0.9654, Validation Accuracy: 0.9688, Loss: 0.0266\n",
      "Epoch  19 Batch   70/134 - Train Accuracy: 0.9698, Validation Accuracy: 0.9722, Loss: 0.0268\n",
      "Epoch  19 Batch   80/134 - Train Accuracy: 0.9731, Validation Accuracy: 0.9689, Loss: 0.0265\n",
      "Epoch  19 Batch   90/134 - Train Accuracy: 0.9689, Validation Accuracy: 0.9717, Loss: 0.0268\n",
      "Epoch  19 Batch  100/134 - Train Accuracy: 0.9678, Validation Accuracy: 0.9699, Loss: 0.0264\n",
      "Epoch  19 Batch  110/134 - Train Accuracy: 0.9712, Validation Accuracy: 0.9758, Loss: 0.0237\n",
      "Epoch  19 Batch  120/134 - Train Accuracy: 0.9712, Validation Accuracy: 0.9765, Loss: 0.0252\n",
      "Epoch  19 Batch  130/134 - Train Accuracy: 0.9737, Validation Accuracy: 0.9731, Loss: 0.0226\n",
      "Model Trained and Saved\n"
     ]
    }
   ],
   "source": [
    "\"\"\"\n",
    "DON'T MODIFY ANYTHING IN THIS CELL\n",
    "\"\"\"\n",
    "def get_accuracy(target, logits):\n",
    "    \"\"\"\n",
    "    Calculate accuracy\n",
    "    \"\"\"\n",
    "    max_seq = max(target.shape[1], logits.shape[1])\n",
    "    if max_seq - target.shape[1]:\n",
    "        target = np.pad(\n",
    "            target,\n",
    "            [(0,0),(0,max_seq - target.shape[1])],\n",
    "            'constant')\n",
    "    if max_seq - logits.shape[1]:\n",
    "        logits = np.pad(\n",
    "            logits,\n",
    "            [(0,0),(0,max_seq - logits.shape[1])],\n",
    "            'constant')\n",
    "\n",
    "    return np.mean(np.equal(target, logits))\n",
    "\n",
    "# Split data to training and validation sets\n",
    "train_source = source_int_text[batch_size:]\n",
    "train_target = target_int_text[batch_size:]\n",
    "valid_source = source_int_text[:batch_size]\n",
    "valid_target = target_int_text[:batch_size]\n",
    "(valid_sources_batch, valid_targets_batch, valid_sources_lengths, valid_targets_lengths ) = next(get_batches(valid_source,\n",
    "                                                                                                             valid_target,\n",
    "                                                                                                             batch_size,\n",
    "                                                                                                             source_vocab_to_int['<PAD>'],\n",
    "                                                                                                             target_vocab_to_int['<PAD>']))                                                                                                  \n",
    "with tf.Session(graph=train_graph) as sess:\n",
    "    sess.run(tf.global_variables_initializer())\n",
    "\n",
    "    for epoch_i in range(epochs):\n",
    "        for batch_i, (source_batch, target_batch, sources_lengths, targets_lengths) in enumerate(\n",
    "                get_batches(train_source, train_target, batch_size,\n",
    "                            source_vocab_to_int['<PAD>'],\n",
    "                            target_vocab_to_int['<PAD>'])):\n",
    "\n",
    "            _, loss = sess.run(\n",
    "                [train_op, cost],\n",
    "                {input_data: source_batch,\n",
    "                 targets: target_batch,\n",
    "                 lr: learning_rate,\n",
    "                 target_sequence_length: targets_lengths,\n",
    "                 source_sequence_length: sources_lengths,\n",
    "                 keep_prob: keep_probability})\n",
    "\n",
    "\n",
    "            if batch_i % display_step == 0 and batch_i > 0:\n",
    "\n",
    "\n",
    "                batch_train_logits = sess.run(\n",
    "                    inference_logits,\n",
    "                    {input_data: source_batch,\n",
    "                     source_sequence_length: sources_lengths,\n",
    "                     target_sequence_length: targets_lengths,\n",
    "                     keep_prob: 1.0})\n",
    "\n",
    "\n",
    "                batch_valid_logits = sess.run(\n",
    "                    inference_logits,\n",
    "                    {input_data: valid_sources_batch,\n",
    "                     source_sequence_length: valid_sources_lengths,\n",
    "                     target_sequence_length: valid_targets_lengths,\n",
    "                     keep_prob: 1.0})\n",
    "\n",
    "                train_acc = get_accuracy(target_batch, batch_train_logits)\n",
    "\n",
    "                valid_acc = get_accuracy(valid_targets_batch, batch_valid_logits)\n",
    "\n",
    "                print('Epoch {:>3} Batch {:>4}/{} - Train Accuracy: {:>6.4f}, Validation Accuracy: {:>6.4f}, Loss: {:>6.4f}'\n",
    "                      .format(epoch_i, batch_i, len(source_int_text) // batch_size, train_acc, valid_acc, loss))\n",
    "\n",
    "    # Save Model\n",
    "    saver = tf.train.Saver()\n",
    "    saver.save(sess, save_path)\n",
    "    print('Model Trained and Saved')"
   ]
  },
  {
   "cell_type": "markdown",
   "metadata": {
    "deletable": true,
    "editable": true
   },
   "source": [
    "### Save Parameters\n",
    "Save the `batch_size` and `save_path` parameters for inference."
   ]
  },
  {
   "cell_type": "code",
   "execution_count": 21,
   "metadata": {
    "collapsed": true,
    "deletable": true,
    "editable": true
   },
   "outputs": [],
   "source": [
    "\"\"\"\n",
    "DON'T MODIFY ANYTHING IN THIS CELL\n",
    "\"\"\"\n",
    "# Save parameters for checkpoint\n",
    "helper.save_params(save_path)"
   ]
  },
  {
   "cell_type": "markdown",
   "metadata": {
    "deletable": true,
    "editable": true
   },
   "source": [
    "# Checkpoint"
   ]
  },
  {
   "cell_type": "code",
   "execution_count": 22,
   "metadata": {
    "collapsed": true,
    "deletable": true,
    "editable": true
   },
   "outputs": [],
   "source": [
    "\"\"\"\n",
    "DON'T MODIFY ANYTHING IN THIS CELL\n",
    "\"\"\"\n",
    "import tensorflow as tf\n",
    "import numpy as np\n",
    "import helper\n",
    "import problem_unittests as tests\n",
    "\n",
    "_, (source_vocab_to_int, target_vocab_to_int), (source_int_to_vocab, target_int_to_vocab) = helper.load_preprocess()\n",
    "load_path = helper.load_params()"
   ]
  },
  {
   "cell_type": "markdown",
   "metadata": {
    "deletable": true,
    "editable": true
   },
   "source": [
    "## Sentence to Sequence\n",
    "To feed a sentence into the model for translation, you first need to preprocess it.  Implement the function `sentence_to_seq()` to preprocess new sentences.\n",
    "\n",
    "- Convert the sentence to lowercase\n",
    "- Convert words into ids using `vocab_to_int`\n",
    " - Convert words not in the vocabulary, to the `<UNK>` word id."
   ]
  },
  {
   "cell_type": "code",
   "execution_count": 23,
   "metadata": {
    "collapsed": false,
    "deletable": true,
    "editable": true
   },
   "outputs": [
    {
     "name": "stdout",
     "output_type": "stream",
     "text": [
      "Tests Passed\n"
     ]
    }
   ],
   "source": [
    "def sentence_to_seq(sentence, vocab_to_int):\n",
    "    \"\"\"\n",
    "    Convert a sentence to a sequence of ids\n",
    "    :param sentence: String\n",
    "    :param vocab_to_int: Dictionary to go from the words to an id\n",
    "    :return: List of word ids\n",
    "    \"\"\"\n",
    "    # TODO: Implement Function\n",
    "    sentence_id = [vocab_to_int.get(word,vocab_to_int['<UNK>']) for word in sentence.lower().split()]\n",
    "    return sentence_id\n",
    "\n",
    "\n",
    "\n",
    "\"\"\"\n",
    "DON'T MODIFY ANYTHING IN THIS CELL THAT IS BELOW THIS LINE\n",
    "\"\"\"\n",
    "tests.test_sentence_to_seq(sentence_to_seq)"
   ]
  },
  {
   "cell_type": "markdown",
   "metadata": {
    "deletable": true,
    "editable": true
   },
   "source": [
    "## Translate\n",
    "This will translate `translate_sentence` from English to French."
   ]
  },
  {
   "cell_type": "code",
   "execution_count": 24,
   "metadata": {
    "collapsed": false,
    "deletable": true,
    "editable": true
   },
   "outputs": [
    {
     "name": "stdout",
     "output_type": "stream",
     "text": [
      "INFO:tensorflow:Restoring parameters from checkpoints/dev\n",
      "Input\n",
      "  Word Ids:      [226, 76, 145, 204, 157, 67, 5]\n",
      "  English Words: ['he', 'saw', 'a', 'old', 'yellow', 'truck', '.']\n",
      "\n",
      "Prediction\n",
      "  Word Ids:      [169, 318, 113, 213, 351, 314, 83, 1]\n",
      "  French Words: il a de nouveau camion noir . <EOS>\n"
     ]
    }
   ],
   "source": [
    "translate_sentence = 'he saw a old yellow truck .'\n",
    "\n",
    "\n",
    "\"\"\"\n",
    "DON'T MODIFY ANYTHING IN THIS CELL\n",
    "\"\"\"\n",
    "translate_sentence = sentence_to_seq(translate_sentence, source_vocab_to_int)\n",
    "\n",
    "loaded_graph = tf.Graph()\n",
    "with tf.Session(graph=loaded_graph) as sess:\n",
    "    # Load saved model\n",
    "    loader = tf.train.import_meta_graph(load_path + '.meta')\n",
    "    loader.restore(sess, load_path)\n",
    "\n",
    "    input_data = loaded_graph.get_tensor_by_name('input:0')\n",
    "    logits = loaded_graph.get_tensor_by_name('predictions:0')\n",
    "    target_sequence_length = loaded_graph.get_tensor_by_name('target_sequence_length:0')\n",
    "    source_sequence_length = loaded_graph.get_tensor_by_name('source_sequence_length:0')\n",
    "    keep_prob = loaded_graph.get_tensor_by_name('keep_prob:0')\n",
    "\n",
    "    translate_logits = sess.run(logits, {input_data: [translate_sentence]*batch_size,\n",
    "                                         target_sequence_length: [len(translate_sentence)*2]*batch_size,\n",
    "                                         source_sequence_length: [len(translate_sentence)]*batch_size,\n",
    "                                         keep_prob: 1.0})[0]\n",
    "\n",
    "print('Input')\n",
    "print('  Word Ids:      {}'.format([i for i in translate_sentence]))\n",
    "print('  English Words: {}'.format([source_int_to_vocab[i] for i in translate_sentence]))\n",
    "\n",
    "print('\\nPrediction')\n",
    "print('  Word Ids:      {}'.format([i for i in translate_logits]))\n",
    "print('  French Words: {}'.format(\" \".join([target_int_to_vocab[i] for i in translate_logits])))\n"
   ]
  },
  {
   "cell_type": "markdown",
   "metadata": {
    "deletable": true,
    "editable": true
   },
   "source": [
    "## Imperfect Translation\n",
    "You might notice that some sentences translate better than others.  Since the dataset you're using only has a vocabulary of 227 English words of the thousands that you use, you're only going to see good results using these words.  For this project, you don't need a perfect translation. However, if you want to create a better translation model, you'll need better data.\n",
    "\n",
    "You can train on the [WMT10 French-English corpus](http://www.statmt.org/wmt10/training-giga-fren.tar).  This dataset has more vocabulary and richer in topics discussed.  However, this will take you days to train, so make sure you've a GPU and the neural network is performing well on dataset we provided.  Just make sure you play with the WMT10 corpus after you've submitted this project.\n",
    "## Submitting This Project\n",
    "When submitting this project, make sure to run all the cells before saving the notebook. Save the notebook file as \"dlnd_language_translation.ipynb\" and save it as a HTML file under \"File\" -> \"Download as\". Include the \"helper.py\" and \"problem_unittests.py\" files in your submission."
   ]
  }
 ],
 "metadata": {
  "anaconda-cloud": {},
  "kernelspec": {
   "display_name": "Python 3",
   "language": "python",
   "name": "python3"
  },
  "language_info": {
   "codemirror_mode": {
    "name": "ipython",
    "version": 3
   },
   "file_extension": ".py",
   "mimetype": "text/x-python",
   "name": "python",
   "nbconvert_exporter": "python",
   "pygments_lexer": "ipython3",
   "version": "3.5.2"
  },
  "widgets": {
   "state": {},
   "version": "1.1.2"
  }
 },
 "nbformat": 4,
 "nbformat_minor": 1
}
